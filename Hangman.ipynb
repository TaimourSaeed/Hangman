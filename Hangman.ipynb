{
 "metadata": {
  "language_info": {
   "codemirror_mode": {
    "name": "ipython",
    "version": 3
   },
   "file_extension": ".py",
   "mimetype": "text/x-python",
   "name": "python",
   "nbconvert_exporter": "python",
   "pygments_lexer": "ipython3",
   "version": "3.8.5-final"
  },
  "orig_nbformat": 2,
  "kernelspec": {
   "name": "python3",
   "display_name": "Python 3.8.5 64-bit ('base': conda)",
   "metadata": {
    "interpreter": {
     "hash": "344443636c3027c5042750c9c609acdda283a9c43681b128a8c1053e7ad2aa7d"
    }
   }
  }
 },
 "nbformat": 4,
 "nbformat_minor": 2,
 "cells": [
  {
   "cell_type": "code",
   "execution_count": 32,
   "metadata": {},
   "outputs": [
    {
     "output_type": "stream",
     "name": "stdout",
     "text": [
      "You have 7 lives left and you have used these letters:  \n",
      "Current word:  - - - - - - - -\n",
      "\n",
      "Your letter, A is not in the word.\n",
      "You have 6 lives left and you have used these letters:  A\n",
      "Current word:  - - - - - - - -\n",
      "\n",
      "Your letter, E is not in the word.\n",
      "You have 5 lives left and you have used these letters:  A E\n",
      "Current word:  - - - - - - - -\n",
      "\n",
      "Your letter, I is not in the word.\n",
      "You have 4 lives left and you have used these letters:  A E I\n",
      "Current word:  - - - - - - - -\n",
      "\n",
      "You have 4 lives left and you have used these letters:  O A E I\n",
      "Current word:  - O - - - - - -\n",
      "\n",
      "You have 4 lives left and you have used these letters:  A I U O E\n",
      "Current word:  - O U - - - U -\n",
      "\n",
      "You have 4 lives left and you have used these letters:  A T I U O E\n",
      "Current word:  - O U T - - U -\n",
      "\n",
      "Your letter, C is not in the word.\n",
      "You have 3 lives left and you have used these letters:  C A T I U O E\n",
      "Current word:  - O U T - - U -\n",
      "\n",
      "Your letter, D is not in the word.\n",
      "You have 2 lives left and you have used these letters:  C A T D I U O E\n",
      "Current word:  - O U T - - U -\n",
      "\n",
      "Your letter, P is not in the word.\n",
      "You have 1 lives left and you have used these letters:  C P A T D I U O E\n",
      "Current word:  - O U T - - U -\n",
      "\n",
      "Your letter, W is not in the word.\n",
      "You died, sorry. The word was YOUTHFUL\n"
     ]
    }
   ],
   "source": [
    "import random\n",
    "from resources import words\n",
    "import string\n",
    "\n",
    "x = words.words\n",
    "\n",
    "def get_valid_word(x):\n",
    "    word = random.choice(x)  # randomly chooses something from the list\n",
    "    while '-' in word or ' ' in word:\n",
    "        word = random.choice(words)\n",
    "\n",
    "    return word.upper()\n",
    "\n",
    "\n",
    "def hangman():\n",
    "    word = get_valid_word(x)\n",
    "    word_letters = set(word)  # letters in the word\n",
    "    alphabet = set(string.ascii_uppercase)\n",
    "    used_letters = set()  # what the user has guessed\n",
    "\n",
    "    lives = 7\n",
    "\n",
    "    # getting user input\n",
    "    while len(word_letters) > 0 and lives > 0:\n",
    "        # letters used\n",
    "        # ' '.join(['a', 'b', 'cd']) --> 'a b cd'\n",
    "        print('You have', lives, 'lives left and you have used these letters: ', ' '.join(used_letters))\n",
    "\n",
    "        # what current word is (ie W - R D)\n",
    "        word_list = [letter if letter in used_letters else '-' for letter in word]\n",
    "        print('Current word: ', ' '.join(word_list))\n",
    "\n",
    "        user_letter = input('Guess a letter: ').upper()\n",
    "        if user_letter in alphabet - used_letters:\n",
    "            used_letters.add(user_letter)\n",
    "            if user_letter in word_letters:\n",
    "                word_letters.remove(user_letter)\n",
    "                print('')\n",
    "\n",
    "            else:\n",
    "                lives = lives - 1  # takes away a life if wrong\n",
    "                print('\\nYour letter,', user_letter, 'is not in the word.')\n",
    "\n",
    "        elif user_letter in used_letters:\n",
    "            print('\\nYou have already used that letter. Guess another letter.')\n",
    "\n",
    "        else:\n",
    "            print('\\nThat is not a valid letter.')\n",
    "\n",
    "    # gets here when len(word_letters) == 0 OR when lives == 0\n",
    "    if lives == 0:\n",
    "        print('You died, sorry. The word was', word)\n",
    "    else:\n",
    "        print('YAY! You guessed the word', word, '!!')\n",
    "\n",
    "\n",
    "if __name__ == '__main__':\n",
    "    hangman()"
   ]
  },
  {
   "cell_type": "code",
   "execution_count": null,
   "metadata": {},
   "outputs": [],
   "source": []
  }
 ]
}